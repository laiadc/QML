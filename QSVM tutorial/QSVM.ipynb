{
 "cells": [
  {
   "cell_type": "code",
   "execution_count": 55,
   "metadata": {},
   "outputs": [],
   "source": [
    "from silence_tensorflow import silence_tensorflow\n",
    "silence_tensorflow()"
   ]
  },
  {
   "cell_type": "code",
   "execution_count": 56,
   "metadata": {},
   "outputs": [
    {
     "data": {
      "text/html": [
       "<div>\n",
       "<style scoped>\n",
       "    .dataframe tbody tr th:only-of-type {\n",
       "        vertical-align: middle;\n",
       "    }\n",
       "\n",
       "    .dataframe tbody tr th {\n",
       "        vertical-align: top;\n",
       "    }\n",
       "\n",
       "    .dataframe thead th {\n",
       "        text-align: right;\n",
       "    }\n",
       "</style>\n",
       "<table border=\"1\" class=\"dataframe\">\n",
       "  <thead>\n",
       "    <tr style=\"text-align: right;\">\n",
       "      <th></th>\n",
       "      <th>q0</th>\n",
       "      <th>q1</th>\n",
       "      <th>q2</th>\n",
       "      <th>q3</th>\n",
       "      <th>q4</th>\n",
       "      <th>q5</th>\n",
       "      <th>q6</th>\n",
       "      <th>q7</th>\n",
       "      <th>q8</th>\n",
       "      <th>q9</th>\n",
       "      <th>...</th>\n",
       "      <th>Gender</th>\n",
       "      <th>Ethnicity</th>\n",
       "      <th>Born</th>\n",
       "      <th>Family</th>\n",
       "      <th>Who</th>\n",
       "      <th>Country</th>\n",
       "      <th>Used</th>\n",
       "      <th>Group</th>\n",
       "      <th>Screening</th>\n",
       "      <th>Score</th>\n",
       "    </tr>\n",
       "  </thead>\n",
       "  <tbody>\n",
       "    <tr>\n",
       "      <th>0</th>\n",
       "      <td>1</td>\n",
       "      <td>1</td>\n",
       "      <td>1</td>\n",
       "      <td>1</td>\n",
       "      <td>0</td>\n",
       "      <td>0</td>\n",
       "      <td>1</td>\n",
       "      <td>1</td>\n",
       "      <td>0</td>\n",
       "      <td>0</td>\n",
       "      <td>...</td>\n",
       "      <td>f</td>\n",
       "      <td>White-European</td>\n",
       "      <td>no</td>\n",
       "      <td>no</td>\n",
       "      <td>'United States'</td>\n",
       "      <td>no</td>\n",
       "      <td>6</td>\n",
       "      <td>'18 and more'</td>\n",
       "      <td>Self</td>\n",
       "      <td>0</td>\n",
       "    </tr>\n",
       "    <tr>\n",
       "      <th>1</th>\n",
       "      <td>1</td>\n",
       "      <td>1</td>\n",
       "      <td>0</td>\n",
       "      <td>1</td>\n",
       "      <td>0</td>\n",
       "      <td>0</td>\n",
       "      <td>0</td>\n",
       "      <td>1</td>\n",
       "      <td>0</td>\n",
       "      <td>1</td>\n",
       "      <td>...</td>\n",
       "      <td>m</td>\n",
       "      <td>Latino</td>\n",
       "      <td>no</td>\n",
       "      <td>yes</td>\n",
       "      <td>Brazil</td>\n",
       "      <td>no</td>\n",
       "      <td>5</td>\n",
       "      <td>'18 and more'</td>\n",
       "      <td>Self</td>\n",
       "      <td>0</td>\n",
       "    </tr>\n",
       "    <tr>\n",
       "      <th>2</th>\n",
       "      <td>1</td>\n",
       "      <td>1</td>\n",
       "      <td>0</td>\n",
       "      <td>1</td>\n",
       "      <td>1</td>\n",
       "      <td>0</td>\n",
       "      <td>1</td>\n",
       "      <td>1</td>\n",
       "      <td>1</td>\n",
       "      <td>1</td>\n",
       "      <td>...</td>\n",
       "      <td>m</td>\n",
       "      <td>Latino</td>\n",
       "      <td>yes</td>\n",
       "      <td>yes</td>\n",
       "      <td>Spain</td>\n",
       "      <td>no</td>\n",
       "      <td>8</td>\n",
       "      <td>'18 and more'</td>\n",
       "      <td>Parent</td>\n",
       "      <td>1</td>\n",
       "    </tr>\n",
       "    <tr>\n",
       "      <th>3</th>\n",
       "      <td>1</td>\n",
       "      <td>1</td>\n",
       "      <td>0</td>\n",
       "      <td>1</td>\n",
       "      <td>0</td>\n",
       "      <td>0</td>\n",
       "      <td>1</td>\n",
       "      <td>1</td>\n",
       "      <td>0</td>\n",
       "      <td>1</td>\n",
       "      <td>...</td>\n",
       "      <td>f</td>\n",
       "      <td>White-European</td>\n",
       "      <td>no</td>\n",
       "      <td>yes</td>\n",
       "      <td>'United States'</td>\n",
       "      <td>no</td>\n",
       "      <td>6</td>\n",
       "      <td>'18 and more'</td>\n",
       "      <td>Self</td>\n",
       "      <td>0</td>\n",
       "    </tr>\n",
       "    <tr>\n",
       "      <th>4</th>\n",
       "      <td>1</td>\n",
       "      <td>0</td>\n",
       "      <td>0</td>\n",
       "      <td>0</td>\n",
       "      <td>0</td>\n",
       "      <td>0</td>\n",
       "      <td>0</td>\n",
       "      <td>1</td>\n",
       "      <td>0</td>\n",
       "      <td>0</td>\n",
       "      <td>...</td>\n",
       "      <td>f</td>\n",
       "      <td>?</td>\n",
       "      <td>no</td>\n",
       "      <td>no</td>\n",
       "      <td>Egypt</td>\n",
       "      <td>no</td>\n",
       "      <td>2</td>\n",
       "      <td>'18 and more'</td>\n",
       "      <td>?</td>\n",
       "      <td>0</td>\n",
       "    </tr>\n",
       "  </tbody>\n",
       "</table>\n",
       "<p>5 rows × 21 columns</p>\n",
       "</div>"
      ],
      "text/plain": [
       "   q0  q1  q2  q3  q4  q5  q6  q7  q8  q9  ... Gender       Ethnicity Born  \\\n",
       "0   1   1   1   1   0   0   1   1   0   0  ...      f  White-European   no   \n",
       "1   1   1   0   1   0   0   0   1   0   1  ...      m          Latino   no   \n",
       "2   1   1   0   1   1   0   1   1   1   1  ...      m          Latino  yes   \n",
       "3   1   1   0   1   0   0   1   1   0   1  ...      f  White-European   no   \n",
       "4   1   0   0   0   0   0   0   1   0   0  ...      f               ?   no   \n",
       "\n",
       "  Family              Who Country Used          Group Screening Score  \n",
       "0     no  'United States'      no    6  '18 and more'      Self     0  \n",
       "1    yes           Brazil      no    5  '18 and more'      Self     0  \n",
       "2    yes            Spain      no    8  '18 and more'    Parent     1  \n",
       "3    yes  'United States'      no    6  '18 and more'      Self     0  \n",
       "4     no            Egypt      no    2  '18 and more'         ?     0  \n",
       "\n",
       "[5 rows x 21 columns]"
      ]
     },
     "execution_count": 56,
     "metadata": {},
     "output_type": "execute_result"
    }
   ],
   "source": [
    "import numpy as np\n",
    "import pandas as pd\n",
    "import matplotlib.pyplot as plt\n",
    "# Load data\n",
    "columns = ['q'+ str(i) for i in range(10)] + ['Age', 'Gender', 'Ethnicity', 'Born', 'Family', 'Who', 'Country', 'Used', 'Group','Screening', 'Score']\n",
    "data=pd.read_csv('autism_data.arff', sep=',', header=None)\n",
    "data.columns = columns\n",
    "data = data.replace({'NO':0, 'YES':1})\n",
    "data.head()"
   ]
  },
  {
   "cell_type": "code",
   "execution_count": 66,
   "metadata": {},
   "outputs": [
    {
     "name": "stdout",
     "output_type": "stream",
     "text": [
      "(704, 7) (704,) (704, 8)\n"
     ]
    }
   ],
   "source": [
    "# Create X and Y data\n",
    "num_feat = 7\n",
    "X = data.iloc[:,:num_feat]\n",
    "Y = data.iloc[:,-1]\n",
    "Z = data.iloc[:,[i for i in range(num_feat)] + [20]]\n",
    "print(X.shape, Y.shape, Z.shape)"
   ]
  },
  {
   "cell_type": "code",
   "execution_count": 67,
   "metadata": {},
   "outputs": [
    {
     "name": "stdout",
     "output_type": "stream",
     "text": [
      "[0.         0.09090909 0.125      0.14285714 0.2        0.25\n",
      " 0.27272727 0.33333333 0.5        0.66666667 0.75       0.8\n",
      " 0.875      0.90909091 1.        ] (704,)\n"
     ]
    }
   ],
   "source": [
    "# Map to probabilities\n",
    "probs = []\n",
    "for i in range(X.shape[0]):\n",
    "    val = X.iloc[i]\n",
    "    Z_sel = Z.query(\" and \".join([\"q\" + str(k) +\"==\" + str(val[k]) for k in range(len(val))]))\n",
    "    probs.append(Z_sel['Score'].mean())    \n",
    "probs = np.array(probs)\n",
    "print(np.unique(probs), probs.shape)"
   ]
  },
  {
   "cell_type": "code",
   "execution_count": 75,
   "metadata": {},
   "outputs": [],
   "source": [
    "num_feat = 8\n",
    "X['qe'] = 1"
   ]
  },
  {
   "cell_type": "code",
   "execution_count": 76,
   "metadata": {},
   "outputs": [],
   "source": [
    "from sklearn.model_selection import train_test_split\n",
    "from sklearn.preprocessing import MinMaxScaler\n",
    "X_train, X_test, y_train, y_test = train_test_split( X.values, probs, test_size=0.15, random_state=42)\n",
    "# scale probs to [-1,1]\n",
    "#scaler = MinMaxScaler((-1,1))\n",
    "#y_train_scaled = scaler.fit_transform(y_train.reshape(-1, 1)).flatten()\n",
    "#y_test_scaled = scaler.transform(y_test.reshape(-1, 1)).flatten()\n",
    "y_train_scaled = y_train\n",
    "y_test_scaled = y_test"
   ]
  },
  {
   "cell_type": "code",
   "execution_count": 77,
   "metadata": {},
   "outputs": [
    {
     "name": "stdout",
     "output_type": "stream",
     "text": [
      "tf.Tensor(\n",
      "[[0.88797235]\n",
      " [0.        ]], shape=(2, 1), dtype=float32)\n",
      "tf.Tensor(\n",
      "[[-0.75017514]\n",
      " [ 0.72497483]], shape=(2, 1), dtype=float64)\n",
      "Model: \"model_14\"\n",
      "_________________________________________________________________\n",
      " Layer (type)                Output Shape              Param #   \n",
      "=================================================================\n",
      " input_15 (InputLayer)       [(None, 8)]               0         \n",
      "                                                                 \n",
      " keras_layer_14 (KerasLayer)  (None, 1)                240       \n",
      "                                                                 \n",
      " dense_14 (Dense)            (None, 1)                 2         \n",
      "                                                                 \n",
      "=================================================================\n",
      "Total params: 242\n",
      "Trainable params: 242\n",
      "Non-trainable params: 0\n",
      "_________________________________________________________________\n"
     ]
    }
   ],
   "source": [
    "import pennylane as qml\n",
    "import tensorflow as tf\n",
    "\n",
    "nqbits = num_feat\n",
    "depth=10\n",
    "\n",
    "dev = qml.device(\"default.qubit\", wires=nqbits)\n",
    "@qml.qnode(dev)\n",
    "def qnode(inputs, weights):\n",
    "    qml.templates.BasisEmbedding(inputs, wires=range(nqbits)) \n",
    "    qml.templates.StronglyEntanglingLayers(weights, wires=range(nqbits))\n",
    "    return [qml.expval(qml.pauli.string_to_pauli_word('Z'*nqbits))]#qml.probs(wires=list(range(nqbits)))##[qml.expval(qml.PauliZ(wires=i)) for i in range(nqbits)]\n",
    "\n",
    "weight_shapes = {\"weights\": (depth, nqbits,3)}\n",
    "qlayer = qml.qnn.KerasLayer(qnode, weight_shapes, output_dim=1)#2**nqbits)#nqbits)#1)\n",
    "clayer = tf.keras.layers.Dense(1, activation=\"relu\")\n",
    "\n",
    "# specify inputs\n",
    "inputs = tf.keras.Input(shape=(nqbits,))\n",
    "x = qlayer(inputs)\n",
    "outputs = clayer(x)\n",
    "model = tf.keras.Model(inputs=inputs, outputs=outputs)\n",
    "\n",
    "opt = tf.keras.optimizers.Adam(learning_rate=0.002)\n",
    "model.compile(opt, loss='mse')\n",
    "\n",
    "x = X.values[:2,:]\n",
    "print(model(x))\n",
    "print(qlayer(x))\n",
    "model.summary()\n"
   ]
  },
  {
   "cell_type": "code",
   "execution_count": 78,
   "metadata": {},
   "outputs": [
    {
     "name": "stdout",
     "output_type": "stream",
     "text": [
      "tf.Tensor(\n",
      "[[0.43375275]\n",
      " [0.34312472]], shape=(2, 1), dtype=float32)\n",
      "Model: \"model_15\"\n",
      "_________________________________________________________________\n",
      " Layer (type)                Output Shape              Param #   \n",
      "=================================================================\n",
      " input_16 (InputLayer)       [(None, 8)]               0         \n",
      "                                                                 \n",
      " keras_layer_15 (KerasLayer)  (None, 8)                90        \n",
      "                                                                 \n",
      " dense_15 (Dense)            (None, 1)                 9         \n",
      "                                                                 \n",
      "=================================================================\n",
      "Total params: 99\n",
      "Trainable params: 99\n",
      "Non-trainable params: 0\n",
      "_________________________________________________________________\n"
     ]
    }
   ],
   "source": [
    "import pennylane as qml\n",
    "import tensorflow as tf\n",
    "\n",
    "nqbits = int(np.log2(num_feat))\n",
    "depth=10\n",
    "\n",
    "dev = qml.device(\"default.qubit\", wires=nqbits)\n",
    "@qml.qnode(dev)\n",
    "def qnode(inputs, weights):\n",
    "    qml.templates.AmplitudeEmbedding(inputs, wires=range(nqbits), normalize=True) \n",
    "    qml.templates.StronglyEntanglingLayers(weights, wires=range(nqbits))\n",
    "    return qml.probs(wires=list(range(nqbits)))#qml.probs(wires=list(range(nqbits)))##[qml.expval(qml.PauliZ(wires=i)) for i in range(nqbits)]\n",
    "\n",
    "weight_shapes = {\"weights\": (depth, nqbits,3)}\n",
    "qlayer = qml.qnn.KerasLayer(qnode, weight_shapes, output_dim=2**nqbits)#nqbits)#1)\n",
    "clayer = tf.keras.layers.Dense(1, activation=\"relu\")\n",
    "\n",
    "# specify inputs\n",
    "inputs = tf.keras.Input(shape=(2**nqbits,))\n",
    "x = qlayer(inputs)\n",
    "outputs = clayer(x)\n",
    "model = tf.keras.Model(inputs=inputs, outputs=outputs)\n",
    "\n",
    "opt = tf.keras.optimizers.Adam(learning_rate=0.02)\n",
    "model.compile(opt, loss='mse')\n",
    "\n",
    "x = X.values[:2,:]\n",
    "print(model(x))\n",
    "model.summary()\n"
   ]
  },
  {
   "cell_type": "code",
   "execution_count": 79,
   "metadata": {},
   "outputs": [
    {
     "name": "stdout",
     "output_type": "stream",
     "text": [
      "(<Figure size 500x400 with 1 Axes>, <Axes: >)\n"
     ]
    },
    {
     "data": {
      "image/png": "[encoded data removed]",
      "text/plain": [
       "<Figure size 500x400 with 1 Axes>"
      ]
     },
     "metadata": {},
     "output_type": "display_data"
    }
   ],
   "source": [
    "# Draw model\n",
    "rng = np.random.default_rng(seed=42)\n",
    "shape_weights = qml.templates.StronglyEntanglingLayers.shape(n_wires=nqbits, n_layers=1)\n",
    "print(qml.draw_mpl(qnode)(X.values[0], rng.random(shape_weights)))"
   ]
  },
  {
   "cell_type": "code",
   "execution_count": null,
   "metadata": {},
   "outputs": [],
   "source": [
    "history = model.fit(X_train, y_train_scaled,validation_split=0.1, epochs=15,batch_size=100)\n",
    "\n",
    "# summarize history for loss\n",
    "plt.plot(history.history['loss'])\n",
    "plt.title('model loss')\n",
    "plt.ylabel('loss')\n",
    "plt.xlabel('epoch')\n",
    "plt.legend(['train'], loc='upper left')\n",
    "plt.show()\n"
   ]
  },
  {
   "cell_type": "code",
   "execution_count": 87,
   "metadata": {},
   "outputs": [
    {
     "name": "stdout",
     "output_type": "stream",
     "text": [
      "4/4 [==============================] - 24s 6s/step\n"
     ]
    },
    {
     "data": {
      "text/plain": [
       "(106, 1)"
      ]
     },
     "execution_count": 87,
     "metadata": {},
     "output_type": "execute_result"
    }
   ],
   "source": [
    "y_hat = model.predict(X_test)\n",
    "y_hat.shape"
   ]
  },
  {
   "cell_type": "code",
   "execution_count": 88,
   "metadata": {},
   "outputs": [],
   "source": [
    "with open('predictions_QNN_7_amplitude.npy', 'wb') as f:\n",
    "    np.save(f,y_hat)\n",
    "\n",
    "with open('y_test_QNN_7_amplitude.npy', 'wb') as f:\n",
    "    np.save(f,y_test_scaled)"
   ]
  },
  {
   "cell_type": "code",
   "execution_count": 89,
   "metadata": {},
   "outputs": [
    {
     "data": {
      "text/plain": [
       "[<matplotlib.lines.Line2D at 0x1e9df7ff2b0>]"
      ]
     },
     "execution_count": 89,
     "metadata": {},
     "output_type": "execute_result"
    },
    {
     "data": {
      "image/png": "[encoded data removed]",
      "text/plain": [
       "<Figure size 640x480 with 1 Axes>"
      ]
     },
     "metadata": {},
     "output_type": "display_data"
    }
   ],
   "source": [
    "plt.plot(y_hat.flatten() - y_test_scaled, 'o', color='red')\n"
   ]
  },
  {
   "cell_type": "code",
   "execution_count": 90,
   "metadata": {},
   "outputs": [
    {
     "data": {
      "text/plain": [
       "[<matplotlib.lines.Line2D at 0x1e9dfd779d0>]"
      ]
     },
     "execution_count": 90,
     "metadata": {},
     "output_type": "execute_result"
    },
    {
     "data": {
      "image/png": "[encoded data removed]",
      "text/plain": [
       "<Figure size 640x480 with 1 Axes>"
      ]
     },
     "metadata": {},
     "output_type": "display_data"
    }
   ],
   "source": [
    "plt.plot(y_hat, 'o', color='red')\n",
    "plt.plot(y_test_scaled, 'o')"
   ]
  },
  {
   "cell_type": "code",
   "execution_count": null,
   "metadata": {},
   "outputs": [],
   "source": []
  }
 ],
 "metadata": {
  "kernelspec": {
   "display_name": "Quantum2",
   "language": "python",
   "name": "python3"
  },
  "language_info": {
   "codemirror_mode": {
    "name": "ipython",
    "version": 3
   },
   "file_extension": ".py",
   "mimetype": "text/x-python",
   "name": "python",
   "nbconvert_exporter": "python",
   "pygments_lexer": "ipython3",
   "version": "3.9.6"
  },
  "orig_nbformat": 4
 },
 "nbformat": 4,
 "nbformat_minor": 2
}
