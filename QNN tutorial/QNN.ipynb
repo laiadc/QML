{
  "cells": [
    {
      "cell_type": "markdown",
      "metadata": {
        "id": "mmHVnJ6WrcVx"
      },
      "source": [
        "# Explainable diagnostics with quantum computing\n",
        "\n",
        "Autistic Spectrum Disorder (ASD) represents a neurodevelopmental condition linked to considerable healthcare expenses. Early detection plays a pivotal role in mitigating these costs. The economic impact of autism and the increase in the number of ASD cases across the world reveals an urgent need for the development of easily implemented and effective screening methods.\n",
        "\n",
        "\n",
        "This notebook aims to generate an explicable quantum machine learning method to automate disgnostics for mental health conditions. In this example, we will be working with an Autisitc Spectrum Disorder dataset, which consists of a set of binary answers to questionnaires. With such answers, our aim is to predict the probability of having ASD. For more information about the dataset, see the associated `Autism-Screening-Adult-Data Description document`.\n"
      ]
    },
    {
      "cell_type": "markdown",
      "metadata": {},
      "source": [
        "Run the following three cells if you are using Google Colab"
      ]
    },
    {
      "cell_type": "code",
      "execution_count": 6,
      "metadata": {
        "colab": {
          "base_uri": "https://localhost:8080/"
        },
        "id": "6Fhp7MedrnzQ",
        "outputId": "cd895929-f956-439e-8bb0-c6a67fef7ac5"
      },
      "outputs": [
        {
          "name": "stdout",
          "output_type": "stream",
          "text": [
            "Cloning into 'QML'...\n",
            "remote: Enumerating objects: 81, done.\u001b[K\n",
            "remote: Total 81 (delta 0), reused 0 (delta 0), pack-reused 81 (from 1)\u001b[K\n",
            "Receiving objects: 100% (81/81), 18.52 MiB | 19.02 MiB/s, done.\n",
            "Resolving deltas: 100% (34/34), done.\n"
          ]
        }
      ],
      "source": [
        "!git clone https://github.com/laiadc/QML.git"
      ]
    },
    {
      "cell_type": "code",
      "execution_count": 1,
      "metadata": {
        "colab": {
          "base_uri": "https://localhost:8080/"
        },
        "id": "vS-PUlZ6sKBY",
        "outputId": "09601cbe-cd22-4ebd-dc0e-40dbb172b5d8"
      },
      "outputs": [
        {
          "name": "stdout",
          "output_type": "stream",
          "text": [
            "/content/QML/QNN tutorial\n"
          ]
        }
      ],
      "source": [
        "cd QML/QNN\\ tutorial"
      ]
    },
    {
      "cell_type": "code",
      "execution_count": null,
      "metadata": {
        "id": "mLYYNU0yrjXn"
      },
      "outputs": [],
      "source": [
        "pip install -r requirements.txt"
      ]
    },
    {
      "cell_type": "code",
      "execution_count": 2,
      "metadata": {
        "id": "GFstuZmsrcVz"
      },
      "outputs": [],
      "source": [
        "import pennylane as qml\n",
        "import numpy as np\n",
        "import pandas as pd\n",
        "import matplotlib.pyplot as plt\n",
        "from sklearn.model_selection import train_test_split\n",
        "import torch\n",
        "from pennylane import numpy as qnp\n",
        "import warnings\n",
        "warnings.filterwarnings('ignore')"
      ]
    },
    {
      "cell_type": "markdown",
      "metadata": {
        "id": "I7D7ox8rrcV0"
      },
      "source": [
        "## Load data\n",
        "\n",
        "Let's begin by loading the dataset"
      ]
    },
    {
      "cell_type": "code",
      "execution_count": 3,
      "metadata": {
        "colab": {
          "base_uri": "https://localhost:8080/",
          "height": 236
        },
        "id": "oo80iMRmrcV0",
        "outputId": "d9b419d7-b2fb-4325-a302-8bb4ee8648f3"
      },
      "outputs": [
        {
          "data": {
            "application/vnd.google.colaboratory.intrinsic+json": {
              "type": "dataframe",
              "variable_name": "data"
            },
            "text/html": [
              "\n",
              "  <div id=\"df-b56de2f5-f042-48e6-9698-1a5307f4e51e\" class=\"colab-df-container\">\n",
              "    <div>\n",
              "<style scoped>\n",
              "    .dataframe tbody tr th:only-of-type {\n",
              "        vertical-align: middle;\n",
              "    }\n",
              "\n",
              "    .dataframe tbody tr th {\n",
              "        vertical-align: top;\n",
              "    }\n",
              "\n",
              "    .dataframe thead th {\n",
              "        text-align: right;\n",
              "    }\n",
              "</style>\n",
              "<table border=\"1\" class=\"dataframe\">\n",
              "  <thead>\n",
              "    <tr style=\"text-align: right;\">\n",
              "      <th></th>\n",
              "      <th>q0</th>\n",
              "      <th>q1</th>\n",
              "      <th>q2</th>\n",
              "      <th>q3</th>\n",
              "      <th>q4</th>\n",
              "      <th>q5</th>\n",
              "      <th>q6</th>\n",
              "      <th>q7</th>\n",
              "      <th>q8</th>\n",
              "      <th>q9</th>\n",
              "      <th>...</th>\n",
              "      <th>Gender</th>\n",
              "      <th>Ethnicity</th>\n",
              "      <th>Born</th>\n",
              "      <th>Family</th>\n",
              "      <th>Who</th>\n",
              "      <th>Country</th>\n",
              "      <th>Used</th>\n",
              "      <th>Group</th>\n",
              "      <th>Screening</th>\n",
              "      <th>Score</th>\n",
              "    </tr>\n",
              "  </thead>\n",
              "  <tbody>\n",
              "    <tr>\n",
              "      <th>0</th>\n",
              "      <td>1</td>\n",
              "      <td>1</td>\n",
              "      <td>1</td>\n",
              "      <td>1</td>\n",
              "      <td>0</td>\n",
              "      <td>0</td>\n",
              "      <td>1</td>\n",
              "      <td>1</td>\n",
              "      <td>0</td>\n",
              "      <td>0</td>\n",
              "      <td>...</td>\n",
              "      <td>f</td>\n",
              "      <td>White-European</td>\n",
              "      <td>no</td>\n",
              "      <td>no</td>\n",
              "      <td>'United States'</td>\n",
              "      <td>no</td>\n",
              "      <td>6</td>\n",
              "      <td>'18 and more'</td>\n",
              "      <td>Self</td>\n",
              "      <td>0</td>\n",
              "    </tr>\n",
              "    <tr>\n",
              "      <th>1</th>\n",
              "      <td>1</td>\n",
              "      <td>1</td>\n",
              "      <td>0</td>\n",
              "      <td>1</td>\n",
              "      <td>0</td>\n",
              "      <td>0</td>\n",
              "      <td>0</td>\n",
              "      <td>1</td>\n",
              "      <td>0</td>\n",
              "      <td>1</td>\n",
              "      <td>...</td>\n",
              "      <td>m</td>\n",
              "      <td>Latino</td>\n",
              "      <td>no</td>\n",
              "      <td>yes</td>\n",
              "      <td>Brazil</td>\n",
              "      <td>no</td>\n",
              "      <td>5</td>\n",
              "      <td>'18 and more'</td>\n",
              "      <td>Self</td>\n",
              "      <td>0</td>\n",
              "    </tr>\n",
              "    <tr>\n",
              "      <th>2</th>\n",
              "      <td>1</td>\n",
              "      <td>1</td>\n",
              "      <td>0</td>\n",
              "      <td>1</td>\n",
              "      <td>1</td>\n",
              "      <td>0</td>\n",
              "      <td>1</td>\n",
              "      <td>1</td>\n",
              "      <td>1</td>\n",
              "      <td>1</td>\n",
              "      <td>...</td>\n",
              "      <td>m</td>\n",
              "      <td>Latino</td>\n",
              "      <td>yes</td>\n",
              "      <td>yes</td>\n",
              "      <td>Spain</td>\n",
              "      <td>no</td>\n",
              "      <td>8</td>\n",
              "      <td>'18 and more'</td>\n",
              "      <td>Parent</td>\n",
              "      <td>1</td>\n",
              "    </tr>\n",
              "    <tr>\n",
              "      <th>3</th>\n",
              "      <td>1</td>\n",
              "      <td>1</td>\n",
              "      <td>0</td>\n",
              "      <td>1</td>\n",
              "      <td>0</td>\n",
              "      <td>0</td>\n",
              "      <td>1</td>\n",
              "      <td>1</td>\n",
              "      <td>0</td>\n",
              "      <td>1</td>\n",
              "      <td>...</td>\n",
              "      <td>f</td>\n",
              "      <td>White-European</td>\n",
              "      <td>no</td>\n",
              "      <td>yes</td>\n",
              "      <td>'United States'</td>\n",
              "      <td>no</td>\n",
              "      <td>6</td>\n",
              "      <td>'18 and more'</td>\n",
              "      <td>Self</td>\n",
              "      <td>0</td>\n",
              "    </tr>\n",
              "    <tr>\n",
              "      <th>4</th>\n",
              "      <td>1</td>\n",
              "      <td>0</td>\n",
              "      <td>0</td>\n",
              "      <td>0</td>\n",
              "      <td>0</td>\n",
              "      <td>0</td>\n",
              "      <td>0</td>\n",
              "      <td>1</td>\n",
              "      <td>0</td>\n",
              "      <td>0</td>\n",
              "      <td>...</td>\n",
              "      <td>f</td>\n",
              "      <td>?</td>\n",
              "      <td>no</td>\n",
              "      <td>no</td>\n",
              "      <td>Egypt</td>\n",
              "      <td>no</td>\n",
              "      <td>2</td>\n",
              "      <td>'18 and more'</td>\n",
              "      <td>?</td>\n",
              "      <td>0</td>\n",
              "    </tr>\n",
              "  </tbody>\n",
              "</table>\n",
              "<p>5 rows × 21 columns</p>\n",
              "</div>\n",
              "    <div class=\"colab-df-buttons\">\n",
              "\n",
              "  <div class=\"colab-df-container\">\n",
              "    <button class=\"colab-df-convert\" onclick=\"convertToInteractive('df-b56de2f5-f042-48e6-9698-1a5307f4e51e')\"\n",
              "            title=\"Convert this dataframe to an interactive table.\"\n",
              "            style=\"display:none;\">\n",
              "\n",
              "  <svg xmlns=\"http://www.w3.org/2000/svg\" height=\"24px\" viewBox=\"0 -960 960 960\">\n",
              "    <path d=\"M120-120v-720h720v720H120Zm60-500h600v-160H180v160Zm220 220h160v-160H400v160Zm0 220h160v-160H400v160ZM180-400h160v-160H180v160Zm440 0h160v-160H620v160ZM180-180h160v-160H180v160Zm440 0h160v-160H620v160Z\"/>\n",
              "  </svg>\n",
              "    </button>\n",
              "\n",
              "  <style>\n",
              "    .colab-df-container {\n",
              "      display:flex;\n",
              "      gap: 12px;\n",
              "    }\n",
              "\n",
              "    .colab-df-convert {\n",
              "      background-color: #E8F0FE;\n",
              "      border: none;\n",
              "      border-radius: 50%;\n",
              "      cursor: pointer;\n",
              "      display: none;\n",
              "      fill: #1967D2;\n",
              "      height: 32px;\n",
              "      padding: 0 0 0 0;\n",
              "      width: 32px;\n",
              "    }\n",
              "\n",
              "    .colab-df-convert:hover {\n",
              "      background-color: #E2EBFA;\n",
              "      box-shadow: 0px 1px 2px rgba(60, 64, 67, 0.3), 0px 1px 3px 1px rgba(60, 64, 67, 0.15);\n",
              "      fill: #174EA6;\n",
              "    }\n",
              "\n",
              "    .colab-df-buttons div {\n",
              "      margin-bottom: 4px;\n",
              "    }\n",
              "\n",
              "    [theme=dark] .colab-df-convert {\n",
              "      background-color: #3B4455;\n",
              "      fill: #D2E3FC;\n",
              "    }\n",
              "\n",
              "    [theme=dark] .colab-df-convert:hover {\n",
              "      background-color: #434B5C;\n",
              "      box-shadow: 0px 1px 3px 1px rgba(0, 0, 0, 0.15);\n",
              "      filter: drop-shadow(0px 1px 2px rgba(0, 0, 0, 0.3));\n",
              "      fill: #FFFFFF;\n",
              "    }\n",
              "  </style>\n",
              "\n",
              "    <script>\n",
              "      const buttonEl =\n",
              "        document.querySelector('#df-b56de2f5-f042-48e6-9698-1a5307f4e51e button.colab-df-convert');\n",
              "      buttonEl.style.display =\n",
              "        google.colab.kernel.accessAllowed ? 'block' : 'none';\n",
              "\n",
              "      async function convertToInteractive(key) {\n",
              "        const element = document.querySelector('#df-b56de2f5-f042-48e6-9698-1a5307f4e51e');\n",
              "        const dataTable =\n",
              "          await google.colab.kernel.invokeFunction('convertToInteractive',\n",
              "                                                    [key], {});\n",
              "        if (!dataTable) return;\n",
              "\n",
              "        const docLinkHtml = 'Like what you see? Visit the ' +\n",
              "          '<a target=\"_blank\" href=https://colab.research.google.com/notebooks/data_table.ipynb>data table notebook</a>'\n",
              "          + ' to learn more about interactive tables.';\n",
              "        element.innerHTML = '';\n",
              "        dataTable['output_type'] = 'display_data';\n",
              "        await google.colab.output.renderOutput(dataTable, element);\n",
              "        const docLink = document.createElement('div');\n",
              "        docLink.innerHTML = docLinkHtml;\n",
              "        element.appendChild(docLink);\n",
              "      }\n",
              "    </script>\n",
              "  </div>\n",
              "\n",
              "\n",
              "<div id=\"df-35ed967b-e8c8-49e3-8e4d-0f1ef771531e\">\n",
              "  <button class=\"colab-df-quickchart\" onclick=\"quickchart('df-35ed967b-e8c8-49e3-8e4d-0f1ef771531e')\"\n",
              "            title=\"Suggest charts\"\n",
              "            style=\"display:none;\">\n",
              "\n",
              "<svg xmlns=\"http://www.w3.org/2000/svg\" height=\"24px\"viewBox=\"0 0 24 24\"\n",
              "     width=\"24px\">\n",
              "    <g>\n",
              "        <path d=\"M19 3H5c-1.1 0-2 .9-2 2v14c0 1.1.9 2 2 2h14c1.1 0 2-.9 2-2V5c0-1.1-.9-2-2-2zM9 17H7v-7h2v7zm4 0h-2V7h2v10zm4 0h-2v-4h2v4z\"/>\n",
              "    </g>\n",
              "</svg>\n",
              "  </button>\n",
              "\n",
              "<style>\n",
              "  .colab-df-quickchart {\n",
              "      --bg-color: #E8F0FE;\n",
              "      --fill-color: #1967D2;\n",
              "      --hover-bg-color: #E2EBFA;\n",
              "      --hover-fill-color: #174EA6;\n",
              "      --disabled-fill-color: #AAA;\n",
              "      --disabled-bg-color: #DDD;\n",
              "  }\n",
              "\n",
              "  [theme=dark] .colab-df-quickchart {\n",
              "      --bg-color: #3B4455;\n",
              "      --fill-color: #D2E3FC;\n",
              "      --hover-bg-color: #434B5C;\n",
              "      --hover-fill-color: #FFFFFF;\n",
              "      --disabled-bg-color: #3B4455;\n",
              "      --disabled-fill-color: #666;\n",
              "  }\n",
              "\n",
              "  .colab-df-quickchart {\n",
              "    background-color: var(--bg-color);\n",
              "    border: none;\n",
              "    border-radius: 50%;\n",
              "    cursor: pointer;\n",
              "    display: none;\n",
              "    fill: var(--fill-color);\n",
              "    height: 32px;\n",
              "    padding: 0;\n",
              "    width: 32px;\n",
              "  }\n",
              "\n",
              "  .colab-df-quickchart:hover {\n",
              "    background-color: var(--hover-bg-color);\n",
              "    box-shadow: 0 1px 2px rgba(60, 64, 67, 0.3), 0 1px 3px 1px rgba(60, 64, 67, 0.15);\n",
              "    fill: var(--button-hover-fill-color);\n",
              "  }\n",
              "\n",
              "  .colab-df-quickchart-complete:disabled,\n",
              "  .colab-df-quickchart-complete:disabled:hover {\n",
              "    background-color: var(--disabled-bg-color);\n",
              "    fill: var(--disabled-fill-color);\n",
              "    box-shadow: none;\n",
              "  }\n",
              "\n",
              "  .colab-df-spinner {\n",
              "    border: 2px solid var(--fill-color);\n",
              "    border-color: transparent;\n",
              "    border-bottom-color: var(--fill-color);\n",
              "    animation:\n",
              "      spin 1s steps(1) infinite;\n",
              "  }\n",
              "\n",
              "  @keyframes spin {\n",
              "    0% {\n",
              "      border-color: transparent;\n",
              "      border-bottom-color: var(--fill-color);\n",
              "      border-left-color: var(--fill-color);\n",
              "    }\n",
              "    20% {\n",
              "      border-color: transparent;\n",
              "      border-left-color: var(--fill-color);\n",
              "      border-top-color: var(--fill-color);\n",
              "    }\n",
              "    30% {\n",
              "      border-color: transparent;\n",
              "      border-left-color: var(--fill-color);\n",
              "      border-top-color: var(--fill-color);\n",
              "      border-right-color: var(--fill-color);\n",
              "    }\n",
              "    40% {\n",
              "      border-color: transparent;\n",
              "      border-right-color: var(--fill-color);\n",
              "      border-top-color: var(--fill-color);\n",
              "    }\n",
              "    60% {\n",
              "      border-color: transparent;\n",
              "      border-right-color: var(--fill-color);\n",
              "    }\n",
              "    80% {\n",
              "      border-color: transparent;\n",
              "      border-right-color: var(--fill-color);\n",
              "      border-bottom-color: var(--fill-color);\n",
              "    }\n",
              "    90% {\n",
              "      border-color: transparent;\n",
              "      border-bottom-color: var(--fill-color);\n",
              "    }\n",
              "  }\n",
              "</style>\n",
              "\n",
              "  <script>\n",
              "    async function quickchart(key) {\n",
              "      const quickchartButtonEl =\n",
              "        document.querySelector('#' + key + ' button');\n",
              "      quickchartButtonEl.disabled = true;  // To prevent multiple clicks.\n",
              "      quickchartButtonEl.classList.add('colab-df-spinner');\n",
              "      try {\n",
              "        const charts = await google.colab.kernel.invokeFunction(\n",
              "            'suggestCharts', [key], {});\n",
              "      } catch (error) {\n",
              "        console.error('Error during call to suggestCharts:', error);\n",
              "      }\n",
              "      quickchartButtonEl.classList.remove('colab-df-spinner');\n",
              "      quickchartButtonEl.classList.add('colab-df-quickchart-complete');\n",
              "    }\n",
              "    (() => {\n",
              "      let quickchartButtonEl =\n",
              "        document.querySelector('#df-35ed967b-e8c8-49e3-8e4d-0f1ef771531e button');\n",
              "      quickchartButtonEl.style.display =\n",
              "        google.colab.kernel.accessAllowed ? 'block' : 'none';\n",
              "    })();\n",
              "  </script>\n",
              "</div>\n",
              "\n",
              "    </div>\n",
              "  </div>\n"
            ],
            "text/plain": [
              "   q0  q1  q2  q3  q4  q5  q6  q7  q8  q9  ... Gender       Ethnicity Born  \\\n",
              "0   1   1   1   1   0   0   1   1   0   0  ...      f  White-European   no   \n",
              "1   1   1   0   1   0   0   0   1   0   1  ...      m          Latino   no   \n",
              "2   1   1   0   1   1   0   1   1   1   1  ...      m          Latino  yes   \n",
              "3   1   1   0   1   0   0   1   1   0   1  ...      f  White-European   no   \n",
              "4   1   0   0   0   0   0   0   1   0   0  ...      f               ?   no   \n",
              "\n",
              "  Family              Who Country Used          Group Screening Score  \n",
              "0     no  'United States'      no    6  '18 and more'      Self     0  \n",
              "1    yes           Brazil      no    5  '18 and more'      Self     0  \n",
              "2    yes            Spain      no    8  '18 and more'    Parent     1  \n",
              "3    yes  'United States'      no    6  '18 and more'      Self     0  \n",
              "4     no            Egypt      no    2  '18 and more'         ?     0  \n",
              "\n",
              "[5 rows x 21 columns]"
            ]
          },
          "execution_count": 3,
          "metadata": {},
          "output_type": "execute_result"
        }
      ],
      "source": [
        "# Load data\n",
        "columns = ['q'+ str(i) for i in range(10)] + ['Age', 'Gender', 'Ethnicity', 'Born', 'Family', 'Who', 'Country', 'Used', 'Group','Screening', 'Score']\n",
        "data=pd.read_csv('ASD_dataset.arff', sep=',', header=None)\n",
        "data.columns = columns\n",
        "data = data.replace({'NO':0, 'YES':1})\n",
        "data.head()"
      ]
    },
    {
      "cell_type": "markdown",
      "metadata": {
        "id": "BAGBkL66rcV1"
      },
      "source": [
        "As you can see, the dataset contains 10 binary questions (0 = NO, 1= YES), plus some additional information from the patient. In this example, we will use the answers to the questions to predict the probability of having ASD. Having an automated tool like this one helps the physicians make faster and accurate diagnostics."
      ]
    },
    {
      "cell_type": "markdown",
      "metadata": {
        "id": "3lVgh6zZrcV2"
      },
      "source": [
        "## Creating our dataset\n",
        "\n",
        "In our case, X will be the set of answers to the questions (which in this case correspond to a binary vector). The target y will be the probability of having ASD given the answers to the questions.\n",
        "For simplicity, we will reduce the number of questions that we choose. Since our dataset is not very long, we want to identify small sets of questions that explain, with high probability, the chances of having ASD.\n",
        "This provides explainable diagnostics to the patients. Let's select 6 features, for example."
      ]
    },
    {
      "cell_type": "code",
      "execution_count": 4,
      "metadata": {
        "colab": {
          "base_uri": "https://localhost:8080/"
        },
        "id": "fGJHljN_rcV2",
        "outputId": "581b17a6-3d3a-417c-e8db-44085e182aa7"
      },
      "outputs": [
        {
          "name": "stdout",
          "output_type": "stream",
          "text": [
            "(704, 6) (704,) (704, 7)\n"
          ]
        }
      ],
      "source": [
        "# Create X and Y data\n",
        "num_feat = 6 # We can reduce the number of questions to simplify the model\n",
        "X = data.iloc[:,:num_feat]\n",
        "Y = data.iloc[:,-1]\n",
        "Z = data.iloc[:,[i for i in range(num_feat)] + [20]]\n",
        "print(X.shape, Y.shape, Z.shape)"
      ]
    },
    {
      "cell_type": "markdown",
      "metadata": {
        "id": "DHyIPtParcV2"
      },
      "source": [
        "Now, let's calculate the probability of having ASD given a particular set of answers to the questions."
      ]
    },
    {
      "cell_type": "code",
      "execution_count": 5,
      "metadata": {
        "id": "liN_unpbrcV2"
      },
      "outputs": [],
      "source": [
        "# Map to probabilities\n",
        "probs = []\n",
        "for i in range(X.shape[0]):\n",
        "    val = X.iloc[i]\n",
        "    Z_sel = Z.query(\" and \".join([\"q\" + str(k) +\"==\" + str(val[k]) for k in range(len(val))]))\n",
        "    probs.append(Z_sel['Score'].mean())\n",
        "probs = np.array(probs)"
      ]
    },
    {
      "cell_type": "markdown",
      "metadata": {
        "id": "5cBkN9jircV3"
      },
      "source": [
        "## Preprocessing\n",
        "\n",
        "We split the data into training, validation and test sets. Remember that the training set is used to train the model, the validation set is used to evaluate different predictive models and select the most optimal one, and the test set provides an estimation of the final performance."
      ]
    },
    {
      "cell_type": "code",
      "execution_count": 6,
      "metadata": {
        "colab": {
          "base_uri": "https://localhost:8080/"
        },
        "id": "tmg_M4hyrcV3",
        "outputId": "0128f562-c4ce-4c4a-9024-1f7b7429f525"
      },
      "outputs": [
        {
          "name": "stdout",
          "output_type": "stream",
          "text": [
            "(598,) (53,) (53,)\n"
          ]
        }
      ],
      "source": [
        "X_train, X_val, y_train, y_val = train_test_split( X.values, probs, test_size=0.15, random_state=42)\n",
        "X_val, X_test, y_val, y_test = train_test_split(X_val, y_val, test_size=0.5, random_state=42)\n",
        "print(y_train.shape, y_val.shape, y_test.shape)"
      ]
    },
    {
      "cell_type": "markdown",
      "metadata": {
        "id": "kdf2W68arcV3"
      },
      "source": [
        "## Quantum Neural Network\n",
        "\n",
        "\n",
        "Let us build a Quantum Neural Network (QNN) to predict the probability of ASD. The architecture of the QNN is the following:\n",
        "\n",
        "+ **Data encoding**: The first step is to encode our training data (the answers to the questions) in our quantu circuit. For this, we will use *Basis Embedding*, which maps a binary vector $b = (0110...)$ to a quantum state $|0110...>$. There is a small problem with the Basis Embedding function in Pennylane, that does not work properly with pytorch (a bug!). Until they solve it, we will find a workaround, by generating a vector that we can encode with amplitude encoding and that gives the same output as the Basis Embedding. For example, consider the input data (00). We would transform these answers to the vector (1000) (first vector of the Hilber space). Similarly, we would transform (01) -> (0100), (10) -> (0010) and (11) -> (0001). Then, encoding these vectors with amplitude encoding would give us the states |00>, |01>, |10> and |11>.\n",
        "\n",
        "+ **Variational model**: The next step is to provide a quantum variational model that combines the input information to make useful predictions. In this case, we will use a layered ansatz, each layer being composed by *Strongly Entangling Layers* (see https://docs.pennylane.ai/en/stable/code/api/pennylane.StronglyEntanglingLayers.html). You can play with the number of layers and also explore other architectures.\n",
        "\n",
        "+ **Measurements**: The quantum neural network finishes with a measurement that retrieves classical information.  In this example, we will use $N$ qubits to encode the data ($N$ = number of features) and 1 qubit to measure the probability of having ASD. In this way, we will measure the probability of qubit 1 being in the 0 state.\n",
        "\n",
        "+ **Classical layer**: In this example we will create a hybrid neural network (a combination of classical and quantum layers). While the measurement could already be the prediction of our model, we will add an extra classical layer to give variablity to the model. This classical layer will simply be a fully connected layer with RELU activation function. This combines linear and non-linear classical functions.\n",
        "\n",
        "Let's startt by preparing the input data to apply (artificial) amplitude encoding."
      ]
    },
    {
      "cell_type": "code",
      "execution_count": 7,
      "metadata": {
        "id": "tIoyQFBkrcV3"
      },
      "outputs": [],
      "source": [
        "def amplitude_vector(X):\n",
        "    # Convert the binary vectors to decimal\n",
        "    X_decimal = []\n",
        "    for i in range(X.shape[0]):\n",
        "        X_decimal.append(int(''.join([str(a) for a in X[i]]),2))\n",
        "    X_decimal = np.array(X_decimal).reshape(-1,1)\n",
        "    # Create a vector of 0s and add 1 in the corresponding basis position\n",
        "    vector = np.zeros((X_decimal.shape[0], 2**num_feat))\n",
        "    for i in range(X_decimal.shape[0]):\n",
        "        vector[i, X_decimal[i]]=1\n",
        "    return vector\n",
        "\n",
        "vector_train = amplitude_vector(X_train)\n",
        "vector_val = amplitude_vector(X_val)\n",
        "vector_test = amplitude_vector(X_test)"
      ]
    },
    {
      "cell_type": "markdown",
      "metadata": {
        "id": "FDi-Zx2JrcV3"
      },
      "source": [
        "Defining the quantum neural network architecture"
      ]
    },
    {
      "cell_type": "code",
      "execution_count": 8,
      "metadata": {
        "id": "Ii1UFC0grcV4"
      },
      "outputs": [],
      "source": [
        "nqbits = num_feat + 1 # Number of qubits\n",
        "depth = 5 # Number of layers\n",
        "\n",
        "dev = qml.device('default.qubit', wires=nqbits)\n",
        "\n",
        "@qml.qnode(dev)\n",
        "def qnode(inputs, weights):\n",
        "    qml.AmplitudeEmbedding(features=inputs, wires=range(1, nqbits),normalize=True) # This is the fake basis embedding method\n",
        "    qml.templates.StronglyEntanglingLayers(weights, wires=range(nqbits))\n",
        "    return [qml.probs(wires=0)]"
      ]
    },
    {
      "cell_type": "markdown",
      "metadata": {
        "id": "7bfI92SdrcV4"
      },
      "source": [
        "Let's visualize our QNN with 1 layer"
      ]
    },
    {
      "cell_type": "code",
      "execution_count": 10,
      "metadata": {
        "colab": {
          "base_uri": "https://localhost:8080/",
          "height": 853
        },
        "id": "gf6zfmjurcV4",
        "outputId": "daeb2bf7-e755-4375-f88f-ed728867b4d4"
      },
      "outputs": [
        {
          "name": "stdout",
          "output_type": "stream",
          "text": [
            "(<Figure size 1200x800 with 1 Axes>, <Axes: >)\n"
          ]
        },
        {
          "data": {
            "image/png": "[encoded data removed]",
            "text/plain": [
              "<Figure size 1200x800 with 1 Axes>"
            ]
          },
          "metadata": {},
          "output_type": "display_data"
        }
      ],
      "source": [
        "rng = np.random.default_rng(seed=42)\n",
        "shape_input = (1, 2**(nqbits-1))\n",
        "shape_weights = (1, nqbits,3)\n",
        "print(qml.draw_mpl(qnode, level=\"device\", style=\"pennylane\")(rng.random(shape_input), rng.random(shape_weights)))"
      ]
    },
    {
      "cell_type": "markdown",
      "metadata": {
        "id": "QuKnGhK0rcV4"
      },
      "source": [
        "Now let's create the hybrid quantum-classical model with Pytorch. To do so, we will transform the quantum node into a torch layer and add a classial layer with an activation function."
      ]
    },
    {
      "cell_type": "code",
      "execution_count": 11,
      "metadata": {
        "colab": {
          "base_uri": "https://localhost:8080/"
        },
        "id": "JgajEqzbrcV4",
        "outputId": "c8b272e5-05d4-4718-bb05-c2c1f3c4a0ad"
      },
      "outputs": [
        {
          "data": {
            "text/plain": [
              "tensor([[0.5434],\n",
              "        [0.5219],\n",
              "        [0.5238],\n",
              "        [0.5332],\n",
              "        [0.5267],\n",
              "        [0.5238]], dtype=torch.float64, grad_fn=<ReluBackward0>)"
            ]
          },
          "execution_count": 11,
          "metadata": {},
          "output_type": "execute_result"
        }
      ],
      "source": [
        "weight_shapes = {\"weights\": (depth, nqbits,3)}\n",
        "init_method = {\"weights\": torch.nn.init.normal_}\n",
        "\n",
        "class TorchModel(torch.nn.Module):\n",
        "    def __init__(self):\n",
        "        super(TorchModel, self).__init__()\n",
        "        self.qlayer = qml.qnn.TorchLayer(qnode, weight_shapes, init_method=init_method)\n",
        "        self.clayer = torch.nn.Linear(1, 1).double()\n",
        "        self.relu = torch.nn.ReLU()\n",
        "\n",
        "    def forward(self, x):\n",
        "        x = self.qlayer(x)\n",
        "        x = x[:,0].reshape(-1,1)\n",
        "        x = self.clayer(x)\n",
        "        x = self.relu(x)\n",
        "        return x\n",
        "\n",
        "model = TorchModel()\n",
        "model(torch.tensor(vector_test[:6,:]))"
      ]
    },
    {
      "cell_type": "markdown",
      "metadata": {
        "id": "freDl_6urcV5"
      },
      "source": [
        "The previous code defines and initializes the quantum neural network. Make sure that the output of the model is not always 0 (this means that the QNN is not initialized properly). In that case, re-run the cell as many times as needed until you obtain a non-zero prediction.\n",
        "\n",
        "Let's now create the training, validation and test data loaders ready for Pyroch. We now specify the batch size and the number of epochs. Then, we select a classical optimizer. In this case we select the Adam optimizer (which is a standard gradient descent optimizer). You can also play with the learning rate, which controls the velocity of the training phase."
      ]
    },
    {
      "cell_type": "code",
      "execution_count": 12,
      "metadata": {
        "id": "OtEu66MprcV5"
      },
      "outputs": [],
      "source": [
        "batch_size = 100\n",
        "epochs = 30\n",
        "\n",
        "training_loader = torch.utils.data.DataLoader(\n",
        "    list(zip(vector_train, y_train.reshape(-1,1))), batch_size=batch_size, shuffle=True)\n",
        "val_loader = torch.utils.data.DataLoader(\n",
        "    list(zip(vector_val, y_val.reshape(-1,1))), batch_size=batch_size, shuffle=True)\n",
        "test_loader = torch.utils.data.DataLoader(\n",
        "    list(zip(vector_test, y_test.reshape(-1,1))), batch_size=batch_size, shuffle=True)\n",
        "\n",
        "opt = torch.optim.Adam(model.parameters(), lr=0.05)\n",
        "loss = torch.nn.MSELoss()"
      ]
    },
    {
      "cell_type": "markdown",
      "metadata": {
        "id": "8InL_gtprcV5"
      },
      "source": [
        "Finally, we're ready to train the model!"
      ]
    },
    {
      "cell_type": "code",
      "execution_count": 13,
      "metadata": {
        "colab": {
          "base_uri": "https://localhost:8080/"
        },
        "id": "kBICudskrcV5",
        "outputId": "a3ee99d9-81bf-4fd9-8f61-86fef75371bf"
      },
      "outputs": [
        {
          "name": "stdout",
          "output_type": "stream",
          "text": [
            "Training loss over epoch 1: 0.1583\n",
            "Validation loss over epoch 1: 0.1631\n",
            "\n",
            "Training loss over epoch 2: 0.1401\n",
            "Validation loss over epoch 2: 0.1427\n",
            "\n",
            "Training loss over epoch 3: 0.1193\n",
            "Validation loss over epoch 3: 0.1270\n",
            "\n",
            "Training loss over epoch 4: 0.1066\n",
            "Validation loss over epoch 4: 0.1064\n",
            "\n",
            "Training loss over epoch 5: 0.0868\n",
            "Validation loss over epoch 5: 0.0875\n",
            "\n",
            "Training loss over epoch 6: 0.0699\n",
            "Validation loss over epoch 6: 0.0667\n",
            "\n",
            "Training loss over epoch 7: 0.0566\n",
            "Validation loss over epoch 7: 0.0479\n",
            "\n",
            "Training loss over epoch 8: 0.0418\n",
            "Validation loss over epoch 8: 0.0354\n",
            "\n",
            "Training loss over epoch 9: 0.0352\n",
            "Validation loss over epoch 9: 0.0306\n",
            "\n",
            "Training loss over epoch 10: 0.0324\n",
            "Validation loss over epoch 10: 0.0293\n",
            "\n",
            "Training loss over epoch 11: 0.0287\n",
            "Validation loss over epoch 11: 0.0245\n",
            "\n",
            "Training loss over epoch 12: 0.0264\n",
            "Validation loss over epoch 12: 0.0235\n",
            "\n",
            "Training loss over epoch 13: 0.0252\n",
            "Validation loss over epoch 13: 0.0217\n",
            "\n",
            "Training loss over epoch 14: 0.0238\n",
            "Validation loss over epoch 14: 0.0204\n",
            "\n",
            "Training loss over epoch 15: 0.0214\n",
            "Validation loss over epoch 15: 0.0183\n",
            "\n",
            "Training loss over epoch 16: 0.0200\n",
            "Validation loss over epoch 16: 0.0161\n",
            "\n",
            "Training loss over epoch 17: 0.0183\n",
            "Validation loss over epoch 17: 0.0151\n",
            "\n",
            "Training loss over epoch 18: 0.0170\n",
            "Validation loss over epoch 18: 0.0126\n",
            "\n",
            "Training loss over epoch 19: 0.0154\n",
            "Validation loss over epoch 19: 0.0127\n",
            "\n",
            "Training loss over epoch 20: 0.0143\n",
            "Validation loss over epoch 20: 0.0102\n",
            "\n",
            "Training loss over epoch 21: 0.0131\n",
            "Validation loss over epoch 21: 0.0092\n",
            "\n",
            "Training loss over epoch 22: 0.0119\n",
            "Validation loss over epoch 22: 0.0087\n",
            "\n",
            "Training loss over epoch 23: 0.0108\n",
            "Validation loss over epoch 23: 0.0093\n",
            "\n",
            "Training loss over epoch 24: 0.0100\n",
            "Validation loss over epoch 24: 0.0088\n",
            "\n",
            "Training loss over epoch 25: 0.0092\n",
            "Validation loss over epoch 25: 0.0092\n",
            "\n",
            "Training loss over epoch 26: 0.0086\n",
            "Validation loss over epoch 26: 0.0084\n",
            "\n",
            "Training loss over epoch 27: 0.0080\n",
            "Validation loss over epoch 27: 0.0092\n",
            "\n",
            "Training loss over epoch 28: 0.0073\n",
            "Validation loss over epoch 28: 0.0074\n",
            "\n",
            "Training loss over epoch 29: 0.0068\n",
            "Validation loss over epoch 29: 0.0070\n",
            "\n",
            "Training loss over epoch 30: 0.0062\n",
            "Validation loss over epoch 30: 0.0059\n",
            "\n"
          ]
        }
      ],
      "source": [
        "train_loss = []\n",
        "val_loss = []\n",
        "for epoch in range(epochs):\n",
        "\n",
        "    training_losses = []\n",
        "    val_losses = []\n",
        "    batch=0\n",
        "    for xs, ys in training_loader:\n",
        "        opt.zero_grad()\n",
        "\n",
        "        loss_evaluated = loss(model(xs), ys)\n",
        "        loss_evaluated.backward()\n",
        "\n",
        "        opt.step()\n",
        "\n",
        "        training_losses.append(loss_evaluated.detach())\n",
        "        batch+=1\n",
        "\n",
        "    avg_loss = np.mean(training_losses)\n",
        "    train_loss.append(avg_loss)\n",
        "    print(\"Training loss over epoch {}: {:.4f}\".format(epoch + 1, avg_loss))\n",
        "\n",
        "    for xs, ys in val_loader:\n",
        "\n",
        "        loss_evaluated = loss(model(xs), ys)\n",
        "        val_losses.append(loss_evaluated.detach())\n",
        "\n",
        "    avg_loss = np.mean(val_losses)\n",
        "    val_loss.append(avg_loss)\n",
        "    print(\"Validation loss over epoch {}: {:.4f}\\n\".format(epoch + 1, avg_loss))"
      ]
    },
    {
      "cell_type": "markdown",
      "metadata": {
        "id": "pDrR1HeMrcV5"
      },
      "source": [
        "Let's visualize the training of the neural network."
      ]
    },
    {
      "cell_type": "code",
      "execution_count": 14,
      "metadata": {
        "colab": {
          "base_uri": "https://localhost:8080/",
          "height": 449
        },
        "id": "V-1fYB8ircV5",
        "outputId": "a42db6c8-0bc7-4c18-ede4-9adde69a17d3"
      },
      "outputs": [
        {
          "data": {
            "image/png": "[encoded data removed]",
            "text/plain": [
              "<Figure size 640x480 with 1 Axes>"
            ]
          },
          "metadata": {},
          "output_type": "display_data"
        }
      ],
      "source": [
        "plt.plot(np.arange(epochs), train_loss, color='blue', label='Training loss')\n",
        "plt.plot(np.arange(epochs), val_loss, color='green', label='Validation loss')\n",
        "plt.xlabel('Number of epochs')\n",
        "plt.ylabel('Mean Squared Error')\n",
        "plt.legend()\n",
        "plt.show()"
      ]
    },
    {
      "cell_type": "markdown",
      "metadata": {
        "id": "bLdLfVW1rcV6"
      },
      "source": [
        "Let's make predictions in the test set."
      ]
    },
    {
      "cell_type": "code",
      "execution_count": 15,
      "metadata": {
        "id": "6CJQ3d41rcV6"
      },
      "outputs": [],
      "source": [
        "y_test_pred = model(torch.tensor(vector_test))\n",
        "y_test_pred = y_test_pred.detach().numpy()"
      ]
    },
    {
      "cell_type": "code",
      "execution_count": 16,
      "metadata": {
        "colab": {
          "base_uri": "https://localhost:8080/"
        },
        "id": "5gtIqZ2TrcV6",
        "outputId": "25f80daf-c91c-4710-a519-73b340c1ee60"
      },
      "outputs": [
        {
          "name": "stdout",
          "output_type": "stream",
          "text": [
            "MSE 0.00688686002287541 MAE 0.04597365464466855 pearson 0.9758158980249318\n"
          ]
        }
      ],
      "source": [
        "import scipy\n",
        "y_test_pred[y_test_pred<0] = 0\n",
        "y_test_pred[y_test_pred>1]=1\n",
        "mae_quantum = np.mean(np.abs(y_test_pred.flatten() - y_test))\n",
        "mse_quantum = np.mean(np.square(y_test_pred.flatten() - y_test))\n",
        "pearson_quantum = scipy.stats.pearsonr(y_test_pred.flatten(), y_test)[0]\n",
        "print('MSE', mse_quantum, 'MAE', mae_quantum, 'pearson', pearson_quantum)"
      ]
    },
    {
      "cell_type": "code",
      "execution_count": 17,
      "metadata": {
        "colab": {
          "base_uri": "https://localhost:8080/",
          "height": 472
        },
        "id": "jfHhvGq-rcV6",
        "outputId": "b25a8c62-d9db-4f9f-cd6c-3da469e019e5"
      },
      "outputs": [
        {
          "data": {
            "image/png": "[encoded data removed]",
            "text/plain": [
              "<Figure size 640x480 with 1 Axes>"
            ]
          },
          "metadata": {},
          "output_type": "display_data"
        }
      ],
      "source": [
        "plt.plot(y_test_pred, 'o', color='red', label='Predicted')\n",
        "plt.plot(y_test, 'o', label='True')\n",
        "plt.xlabel('Data sample')\n",
        "plt.ylabel('ASD probability')\n",
        "plt.title('QNN results')\n",
        "plt.show()"
      ]
    },
    {
      "cell_type": "markdown",
      "metadata": {
        "id": "1JGBPLdfrcV6"
      },
      "source": [
        "We see that our model fairly predicts the ASD probability. We could improve the predictions by modifying the hyperparameters of the model and testing new architectures."
      ]
    },
    {
      "cell_type": "markdown",
      "metadata": {
        "id": "zDMpj1CDrcV6"
      },
      "source": [
        "## Exercise: Compare with a classical model\n",
        "\n",
        "Train a classical model (it can either be a neural network, SVM, linear regression or any classical model). You can find examples of regression models here https://scikit-learn.org/stable/supervised_learning.html.\n",
        "How does the performance compare with a classical model?"
      ]
    },
    {
      "cell_type": "markdown",
      "metadata": {
        "id": "QM4UYOusrcV7"
      },
      "source": [
        "## Exercise: Test different QNN architectures\n",
        "\n",
        "Vary the QNN architecture to find the one that provides best regults. You can change the variational model (check Pennylane's templates for details: https://docs.pennylane.ai/en/stable/introduction/templates.html). Can you find the most appropriate architecture?"
      ]
    }
  ],
  "metadata": {
    "colab": {
      "provenance": []
    },
    "kernelspec": {
      "display_name": "Quantum2",
      "language": "python",
      "name": "python3"
    },
    "language_info": {
      "codemirror_mode": {
        "name": "ipython",
        "version": 3
      },
      "file_extension": ".py",
      "mimetype": "text/x-python",
      "name": "python",
      "nbconvert_exporter": "python",
      "pygments_lexer": "ipython3",
      "version": "3.11.2"
    }
  },
  "nbformat": 4,
  "nbformat_minor": 0
}
